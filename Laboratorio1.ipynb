{
 "cells": [
  {
   "cell_type": "markdown",
   "id": "7cf88497-48d7-419c-bc38-5354169845d5",
   "metadata": {
    "tags": []
   },
   "source": [
    "![EncabezadoIN](EncabezadoIN.JPG)"
   ]
  },
  {
   "cell_type": "markdown",
   "id": "8d46084b",
   "metadata": {},
   "source": [
    "## Laboratorio 1 - Agrupación (Clustering)\n",
    "\n",
    "Integrantes: \n",
    "Juan Pablo Lora Hernández - 202012524 \n",
    "Andrés Francisco Borda Rincón - \n",
    "Gabriela Vargas Rojas - \n",
    "## Caso \n",
    "Los sistemas de recomendación han revolucionado la forma en que los usuarios descubren contenido en plataformas de streaming. Estos sistemas utilizan técnicas de aprendizaje automático para predecir las preferencias de los usuarios y ofrecerles contenido relevante. Así, uno de los desafíos clave para este laboratorio, en la construcción de estos sistemas es identificar las características de las películas que influyen en las calificaciones y gustos de los usuarios.\n",
    "El comprender mejor el aporte que pueden brindar los sistemas de recomendación a una empresa de streaming, motivó a MovieAlpes a iniciar este proyecto. MovieAlpes es una empresa de streaming que quiere ser más efectiva en sus recomendaciones para mantener a sus usuarios satisfechos y, a su vez, capturar nuevos espectadores. Para ello, ha decidido emprender un proyecto para conocer cuáles son los factores que inciden en las calificaciones positivas de los productos que ofrece y entender mejor a sus usuarios. Para realizar este estudio ha recopilado un conjunto de datos que contiene información detallada sobre un amplio espectro de películas, series y mini series de TV, que incluye género, año de lanzamiento, duración, puntuación, entre otros atributos relevantes.\n",
    "MovieAlpes los ha contactado para realizar este proceso de caracterización e identificación de patrones que puedan ser utilizados para entender las preferencias de sus usuarios e identificar los atributos que influyen en las calificaciones positivas. La idea es mejorar significativamente la experiencia de estos al proporcionar recomendaciones más relevantes y adaptadas a sus gustos individuales. Dados los procesos internos que en la actualidad lleva a cabo MovieAlpes a nivel de aprendizaje automático, requiere que la solución que brinde al problema plateado, sea basada en una tarea de agrupación."
   ]
  },
  {
   "cell_type": "markdown",
   "id": "c218c76b",
   "metadata": {},
   "source": [
    "## 1. Carga de librerías necesarias para implementación"
   ]
  },
  {
   "cell_type": "code",
   "execution_count": 2,
   "id": "4948d778",
   "metadata": {
    "tags": []
   },
   "outputs": [],
   "source": [
    "import sklearn\n",
    "import pandas as pd\n",
    "import numpy as np\n",
    "import matplotlib.pyplot as plt\n",
    "import seaborn as sns; sns.set()  # for plot styling\n",
    "\n",
    "from sklearn.cluster import KMeans\n",
    "from sklearn.metrics import silhouette_samples, silhouette_score\n",
    "from sklearn.preprocessing import MinMaxScaler\n",
    "from sklearn.preprocessing import StandardScaler\n",
    "from sklearn.preprocessing import OneHotEncoder\n",
    "\n",
    "from matplotlib import cm\n",
    "from mpl_toolkits.mplot3d import Axes3D # for 3D plots\n"
   ]
  },
  {
   "cell_type": "markdown",
   "id": "47a267ec",
   "metadata": {},
   "source": [
    "## 2. Cargar los datos"
   ]
  },
  {
   "cell_type": "code",
   "execution_count": 3,
   "id": "0e20711b",
   "metadata": {
    "tags": []
   },
   "outputs": [],
   "source": [
    "# Se cargan los datos. \n",
    "df_movies=pd.read_csv('./Datos_Agrupación_data_MovieAlpes_data.csv', sep=';', encoding = \"ISO-8859-1\")"
   ]
  },
  {
   "cell_type": "markdown",
   "id": "5a2d310b",
   "metadata": {},
   "source": [
    "## 3. Entendimiento de los datos "
   ]
  },
  {
   "cell_type": "markdown",
   "id": "a4d2d361",
   "metadata": {},
   "source": [
    "### 3.1. Perfilamiento de datos"
   ]
  },
  {
   "cell_type": "code",
   "execution_count": 4,
   "id": "5a335ba1",
   "metadata": {
    "tags": []
   },
   "outputs": [
    {
     "data": {
      "text/plain": [
       "(7471, 18)"
      ]
     },
     "execution_count": 4,
     "metadata": {},
     "output_type": "execute_result"
    }
   ],
   "source": [
    "df_movies.shape"
   ]
  },
  {
   "cell_type": "code",
   "execution_count": 5,
   "id": "12de4299",
   "metadata": {
    "tags": []
   },
   "outputs": [
    {
     "data": {
      "text/html": [
       "<div>\n",
       "<style scoped>\n",
       "    .dataframe tbody tr th:only-of-type {\n",
       "        vertical-align: middle;\n",
       "    }\n",
       "\n",
       "    .dataframe tbody tr th {\n",
       "        vertical-align: top;\n",
       "    }\n",
       "\n",
       "    .dataframe thead th {\n",
       "        text-align: right;\n",
       "    }\n",
       "</style>\n",
       "<table border=\"1\" class=\"dataframe\">\n",
       "  <thead>\n",
       "    <tr style=\"text-align: right;\">\n",
       "      <th></th>\n",
       "      <th>#</th>\n",
       "      <th>index</th>\n",
       "      <th>tconst</th>\n",
       "      <th>titleType</th>\n",
       "      <th>originalTitle</th>\n",
       "      <th>isAdult</th>\n",
       "      <th>startYear</th>\n",
       "      <th>runtimeMinutes</th>\n",
       "      <th>averageRating</th>\n",
       "      <th>numVotes</th>\n",
       "      <th>ordering</th>\n",
       "      <th>region</th>\n",
       "      <th>language</th>\n",
       "      <th>types</th>\n",
       "      <th>attributes</th>\n",
       "      <th>isOriginalTitle</th>\n",
       "      <th>main_genre</th>\n",
       "      <th>secondary_genre</th>\n",
       "    </tr>\n",
       "  </thead>\n",
       "  <tbody>\n",
       "    <tr>\n",
       "      <th>0</th>\n",
       "      <td>1</td>\n",
       "      <td>1</td>\n",
       "      <td>tt0103064</td>\n",
       "      <td>movie</td>\n",
       "      <td>Terminator 2: Judgment Day</td>\n",
       "      <td>0.0</td>\n",
       "      <td>1991.0</td>\n",
       "      <td>137</td>\n",
       "      <td>8.6</td>\n",
       "      <td>1128166.0</td>\n",
       "      <td>17.0</td>\n",
       "      <td>US</td>\n",
       "      <td>en</td>\n",
       "      <td>dvd</td>\n",
       "      <td>\\N</td>\n",
       "      <td>0.0</td>\n",
       "      <td>Action</td>\n",
       "      <td>Sci-Fi</td>\n",
       "    </tr>\n",
       "    <tr>\n",
       "      <th>1</th>\n",
       "      <td>10</td>\n",
       "      <td>17</td>\n",
       "      <td>tt0231050</td>\n",
       "      <td>tvSeries</td>\n",
       "      <td>ToransufÃÂ´mÃÂ¢: KÃÂ¢robotto</td>\n",
       "      <td>0.0</td>\n",
       "      <td>2000.0</td>\n",
       "      <td>22</td>\n",
       "      <td>6.6</td>\n",
       "      <td>577.0</td>\n",
       "      <td>16.0</td>\n",
       "      <td>US</td>\n",
       "      <td>en</td>\n",
       "      <td>alternative</td>\n",
       "      <td>\\N</td>\n",
       "      <td>0.0</td>\n",
       "      <td>Action</td>\n",
       "      <td>Adventure</td>\n",
       "    </tr>\n",
       "    <tr>\n",
       "      <th>2</th>\n",
       "      <td>13</td>\n",
       "      <td>23</td>\n",
       "      <td>tt0253474</td>\n",
       "      <td>movie</td>\n",
       "      <td>The Pianist</td>\n",
       "      <td>0.0</td>\n",
       "      <td>2002.0</td>\n",
       "      <td>150</td>\n",
       "      <td>8.5</td>\n",
       "      <td>860569.0</td>\n",
       "      <td>7.0</td>\n",
       "      <td>US</td>\n",
       "      <td>en</td>\n",
       "      <td>imdbDisplay</td>\n",
       "      <td>\\N</td>\n",
       "      <td>0.0</td>\n",
       "      <td>Biography</td>\n",
       "      <td>Drama</td>\n",
       "    </tr>\n",
       "    <tr>\n",
       "      <th>3</th>\n",
       "      <td>21</td>\n",
       "      <td>55</td>\n",
       "      <td>tt0369339</td>\n",
       "      <td>movie</td>\n",
       "      <td>Collateral</td>\n",
       "      <td>0.0</td>\n",
       "      <td>2004.0</td>\n",
       "      <td>120</td>\n",
       "      <td>7.5</td>\n",
       "      <td>417391.0</td>\n",
       "      <td>6.0</td>\n",
       "      <td>US</td>\n",
       "      <td>en</td>\n",
       "      <td>imdbDisplay</td>\n",
       "      <td>\\N</td>\n",
       "      <td>0.0</td>\n",
       "      <td>Action</td>\n",
       "      <td>Crime</td>\n",
       "    </tr>\n",
       "    <tr>\n",
       "      <th>4</th>\n",
       "      <td>28</td>\n",
       "      <td>87</td>\n",
       "      <td>tt0439547</td>\n",
       "      <td>movie</td>\n",
       "      <td>2 Filhos de Francisco: A HistÃÂ³ria de ZezÃÂ...</td>\n",
       "      <td>0.0</td>\n",
       "      <td>2005.0</td>\n",
       "      <td>132</td>\n",
       "      <td>6.9</td>\n",
       "      <td>5946.0</td>\n",
       "      <td>5.0</td>\n",
       "      <td>US</td>\n",
       "      <td>en</td>\n",
       "      <td>imdbDisplay</td>\n",
       "      <td>\\N</td>\n",
       "      <td>0.0</td>\n",
       "      <td>Biography</td>\n",
       "      <td>Drama</td>\n",
       "    </tr>\n",
       "  </tbody>\n",
       "</table>\n",
       "</div>"
      ],
      "text/plain": [
       "    #  index     tconst titleType  \\\n",
       "0   1      1  tt0103064     movie   \n",
       "1  10     17  tt0231050  tvSeries   \n",
       "2  13     23  tt0253474     movie   \n",
       "3  21     55  tt0369339     movie   \n",
       "4  28     87  tt0439547     movie   \n",
       "\n",
       "                                       originalTitle  isAdult  startYear  \\\n",
       "0                         Terminator 2: Judgment Day      0.0     1991.0   \n",
       "1                    ToransufÃÂ´mÃÂ¢: KÃÂ¢robotto      0.0     2000.0   \n",
       "2                                        The Pianist      0.0     2002.0   \n",
       "3                                         Collateral      0.0     2004.0   \n",
       "4  2 Filhos de Francisco: A HistÃÂ³ria de ZezÃÂ...      0.0     2005.0   \n",
       "\n",
       "  runtimeMinutes  averageRating   numVotes  ordering region language  \\\n",
       "0            137            8.6  1128166.0      17.0     US       en   \n",
       "1             22            6.6      577.0      16.0     US       en   \n",
       "2            150            8.5   860569.0       7.0     US       en   \n",
       "3            120            7.5   417391.0       6.0     US       en   \n",
       "4            132            6.9     5946.0       5.0     US       en   \n",
       "\n",
       "         types attributes  isOriginalTitle main_genre secondary_genre  \n",
       "0          dvd         \\N              0.0     Action          Sci-Fi  \n",
       "1  alternative         \\N              0.0     Action       Adventure  \n",
       "2  imdbDisplay         \\N              0.0  Biography           Drama  \n",
       "3  imdbDisplay         \\N              0.0     Action           Crime  \n",
       "4  imdbDisplay         \\N              0.0  Biography           Drama  "
      ]
     },
     "execution_count": 5,
     "metadata": {},
     "output_type": "execute_result"
    }
   ],
   "source": [
    "df_movies.head()"
   ]
  },
  {
   "cell_type": "code",
   "execution_count": 6,
   "id": "0d4a8e29",
   "metadata": {
    "tags": []
   },
   "outputs": [
    {
     "name": "stdout",
     "output_type": "stream",
     "text": [
      "<class 'pandas.core.frame.DataFrame'>\n",
      "RangeIndex: 7471 entries, 0 to 7470\n",
      "Data columns (total 18 columns):\n",
      " #   Column           Non-Null Count  Dtype  \n",
      "---  ------           --------------  -----  \n",
      " 0   #                7471 non-null   int64  \n",
      " 1   index            7471 non-null   int64  \n",
      " 2   tconst           7471 non-null   object \n",
      " 3   titleType        7471 non-null   object \n",
      " 4   originalTitle    7471 non-null   object \n",
      " 5   isAdult          7470 non-null   float64\n",
      " 6   startYear        7470 non-null   float64\n",
      " 7   runtimeMinutes   7470 non-null   object \n",
      " 8   averageRating    7470 non-null   float64\n",
      " 9   numVotes         7470 non-null   float64\n",
      " 10  ordering         7470 non-null   float64\n",
      " 11  region           7470 non-null   object \n",
      " 12  language         7470 non-null   object \n",
      " 13  types            7470 non-null   object \n",
      " 14  attributes       7470 non-null   object \n",
      " 15  isOriginalTitle  7470 non-null   float64\n",
      " 16  main_genre       7470 non-null   object \n",
      " 17  secondary_genre  7470 non-null   object \n",
      "dtypes: float64(6), int64(2), object(10)\n",
      "memory usage: 1.0+ MB\n"
     ]
    }
   ],
   "source": [
    "# Revisar las características de los datos: completitud y tipo de dato\n",
    "df_movies.info()"
   ]
  },
  {
   "cell_type": "code",
   "execution_count": 7,
   "id": "0f6a0819",
   "metadata": {
    "tags": []
   },
   "outputs": [
    {
     "data": {
      "text/html": [
       "<div>\n",
       "<style scoped>\n",
       "    .dataframe tbody tr th:only-of-type {\n",
       "        vertical-align: middle;\n",
       "    }\n",
       "\n",
       "    .dataframe tbody tr th {\n",
       "        vertical-align: top;\n",
       "    }\n",
       "\n",
       "    .dataframe thead th {\n",
       "        text-align: right;\n",
       "    }\n",
       "</style>\n",
       "<table border=\"1\" class=\"dataframe\">\n",
       "  <thead>\n",
       "    <tr style=\"text-align: right;\">\n",
       "      <th></th>\n",
       "      <th>#</th>\n",
       "      <th>index</th>\n",
       "      <th>startYear</th>\n",
       "      <th>averageRating</th>\n",
       "      <th>ordering</th>\n",
       "      <th>numVotes</th>\n",
       "    </tr>\n",
       "  </thead>\n",
       "  <tbody>\n",
       "    <tr>\n",
       "      <th>count</th>\n",
       "      <td>7471.000000</td>\n",
       "      <td>7471.000000</td>\n",
       "      <td>7470.000000</td>\n",
       "      <td>7470.000000</td>\n",
       "      <td>7470.000000</td>\n",
       "      <td>7.470000e+03</td>\n",
       "    </tr>\n",
       "    <tr>\n",
       "      <th>mean</th>\n",
       "      <td>4043.482666</td>\n",
       "      <td>5440.458439</td>\n",
       "      <td>2013.157296</td>\n",
       "      <td>7.475676</td>\n",
       "      <td>16.567604</td>\n",
       "      <td>7.282830e+04</td>\n",
       "    </tr>\n",
       "    <tr>\n",
       "      <th>std</th>\n",
       "      <td>2192.753689</td>\n",
       "      <td>2752.820924</td>\n",
       "      <td>6.979151</td>\n",
       "      <td>2.771444</td>\n",
       "      <td>12.761147</td>\n",
       "      <td>1.640233e+05</td>\n",
       "    </tr>\n",
       "    <tr>\n",
       "      <th>min</th>\n",
       "      <td>1.000000</td>\n",
       "      <td>1.000000</td>\n",
       "      <td>1990.000000</td>\n",
       "      <td>6.500000</td>\n",
       "      <td>1.000000</td>\n",
       "      <td>1.000000e+01</td>\n",
       "    </tr>\n",
       "    <tr>\n",
       "      <th>25%</th>\n",
       "      <td>2152.500000</td>\n",
       "      <td>3073.500000</td>\n",
       "      <td>2008.000000</td>\n",
       "      <td>6.900000</td>\n",
       "      <td>6.000000</td>\n",
       "      <td>6.265250e+03</td>\n",
       "    </tr>\n",
       "    <tr>\n",
       "      <th>50%</th>\n",
       "      <td>4033.000000</td>\n",
       "      <td>5421.000000</td>\n",
       "      <td>2015.000000</td>\n",
       "      <td>7.300000</td>\n",
       "      <td>14.000000</td>\n",
       "      <td>1.527900e+04</td>\n",
       "    </tr>\n",
       "    <tr>\n",
       "      <th>75%</th>\n",
       "      <td>5914.500000</td>\n",
       "      <td>7641.500000</td>\n",
       "      <td>2019.000000</td>\n",
       "      <td>7.800000</td>\n",
       "      <td>24.000000</td>\n",
       "      <td>5.641975e+04</td>\n",
       "    </tr>\n",
       "    <tr>\n",
       "      <th>max</th>\n",
       "      <td>7849.000000</td>\n",
       "      <td>10274.000000</td>\n",
       "      <td>2023.000000</td>\n",
       "      <td>92.000000</td>\n",
       "      <td>119.000000</td>\n",
       "      <td>2.197234e+06</td>\n",
       "    </tr>\n",
       "  </tbody>\n",
       "</table>\n",
       "</div>"
      ],
      "text/plain": [
       "                 #         index    startYear  averageRating     ordering  \\\n",
       "count  7471.000000   7471.000000  7470.000000    7470.000000  7470.000000   \n",
       "mean   4043.482666   5440.458439  2013.157296       7.475676    16.567604   \n",
       "std    2192.753689   2752.820924     6.979151       2.771444    12.761147   \n",
       "min       1.000000      1.000000  1990.000000       6.500000     1.000000   \n",
       "25%    2152.500000   3073.500000  2008.000000       6.900000     6.000000   \n",
       "50%    4033.000000   5421.000000  2015.000000       7.300000    14.000000   \n",
       "75%    5914.500000   7641.500000  2019.000000       7.800000    24.000000   \n",
       "max    7849.000000  10274.000000  2023.000000      92.000000   119.000000   \n",
       "\n",
       "           numVotes  \n",
       "count  7.470000e+03  \n",
       "mean   7.282830e+04  \n",
       "std    1.640233e+05  \n",
       "min    1.000000e+01  \n",
       "25%    6.265250e+03  \n",
       "50%    1.527900e+04  \n",
       "75%    5.641975e+04  \n",
       "max    2.197234e+06  "
      ]
     },
     "execution_count": 7,
     "metadata": {},
     "output_type": "execute_result"
    }
   ],
   "source": [
    "# Resumen de los estadisticos de las variables numéricas\n",
    "df_movies_num = df_movies[['#', 'index', 'startYear', 'averageRating', 'ordering', 'numVotes']].copy()\n",
    "df_movies_num.describe()\n"
   ]
  },
  {
   "cell_type": "code",
   "execution_count": 8,
   "id": "ebc3608f-8e75-477a-bf17-2fe7ba8cb2f8",
   "metadata": {
    "tags": []
   },
   "outputs": [
    {
     "data": {
      "image/png": "[encoded data removed]",
      "text/plain": [
       "<Figure size 2000x800 with 1 Axes>"
      ]
     },
     "metadata": {},
     "output_type": "display_data"
    }
   ],
   "source": [
    "#Visualización de todas las variables numéricas\n",
    "fig=plt.figure(figsize=(20,8))\n",
    "ax = sns.boxplot(data=df_movies_num, orient =\"v\")\n"
   ]
  },
  {
   "cell_type": "code",
   "execution_count": 9,
   "id": "fba77ac1",
   "metadata": {
    "tags": []
   },
   "outputs": [
    {
     "data": {
      "text/plain": [
       "Index(['tconst', 'titleType', 'originalTitle', 'runtimeMinutes', 'region',\n",
       "       'language', 'types', 'attributes', 'main_genre', 'secondary_genre'],\n",
       "      dtype='object')"
      ]
     },
     "execution_count": 9,
     "metadata": {},
     "output_type": "execute_result"
    }
   ],
   "source": [
    "# Explorar las variables que no son numéricas\n",
    "name_cols_non_number = df_movies.select_dtypes(include = ['object']).columns\n",
    "name_cols_non_number"
   ]
  },
  {
   "cell_type": "code",
   "execution_count": 10,
   "id": "85eca901",
   "metadata": {
    "tags": []
   },
   "outputs": [
    {
     "data": {
      "text/html": [
       "<div>\n",
       "<style scoped>\n",
       "    .dataframe tbody tr th:only-of-type {\n",
       "        vertical-align: middle;\n",
       "    }\n",
       "\n",
       "    .dataframe tbody tr th {\n",
       "        vertical-align: top;\n",
       "    }\n",
       "\n",
       "    .dataframe thead th {\n",
       "        text-align: right;\n",
       "    }\n",
       "</style>\n",
       "<table border=\"1\" class=\"dataframe\">\n",
       "  <thead>\n",
       "    <tr style=\"text-align: right;\">\n",
       "      <th></th>\n",
       "      <th>tconst</th>\n",
       "      <th>titleType</th>\n",
       "      <th>originalTitle</th>\n",
       "      <th>runtimeMinutes</th>\n",
       "      <th>region</th>\n",
       "      <th>language</th>\n",
       "      <th>types</th>\n",
       "      <th>attributes</th>\n",
       "      <th>main_genre</th>\n",
       "      <th>secondary_genre</th>\n",
       "    </tr>\n",
       "  </thead>\n",
       "  <tbody>\n",
       "    <tr>\n",
       "      <th>count</th>\n",
       "      <td>7471</td>\n",
       "      <td>7471</td>\n",
       "      <td>7471</td>\n",
       "      <td>7470</td>\n",
       "      <td>7470</td>\n",
       "      <td>7470</td>\n",
       "      <td>7470</td>\n",
       "      <td>7470</td>\n",
       "      <td>7470</td>\n",
       "      <td>7470</td>\n",
       "    </tr>\n",
       "    <tr>\n",
       "      <th>unique</th>\n",
       "      <td>7466</td>\n",
       "      <td>7</td>\n",
       "      <td>7290</td>\n",
       "      <td>362</td>\n",
       "      <td>4</td>\n",
       "      <td>1</td>\n",
       "      <td>5</td>\n",
       "      <td>1</td>\n",
       "      <td>22</td>\n",
       "      <td>26</td>\n",
       "    </tr>\n",
       "    <tr>\n",
       "      <th>top</th>\n",
       "      <td>tt0395843</td>\n",
       "      <td>movie</td>\n",
       "      <td>Home</td>\n",
       "      <td>60</td>\n",
       "      <td>IN</td>\n",
       "      <td>en</td>\n",
       "      <td>imdbDisplay</td>\n",
       "      <td>\\N</td>\n",
       "      <td>Drama</td>\n",
       "      <td>Drama</td>\n",
       "    </tr>\n",
       "    <tr>\n",
       "      <th>freq</th>\n",
       "      <td>2</td>\n",
       "      <td>4673</td>\n",
       "      <td>3</td>\n",
       "      <td>534</td>\n",
       "      <td>5590</td>\n",
       "      <td>7470</td>\n",
       "      <td>7395</td>\n",
       "      <td>7470</td>\n",
       "      <td>1767</td>\n",
       "      <td>2428</td>\n",
       "    </tr>\n",
       "  </tbody>\n",
       "</table>\n",
       "</div>"
      ],
      "text/plain": [
       "           tconst titleType originalTitle runtimeMinutes region language  \\\n",
       "count        7471      7471          7471           7470   7470     7470   \n",
       "unique       7466         7          7290            362      4        1   \n",
       "top     tt0395843     movie          Home             60     IN       en   \n",
       "freq            2      4673             3            534   5590     7470   \n",
       "\n",
       "              types attributes main_genre secondary_genre  \n",
       "count          7470       7470       7470            7470  \n",
       "unique            5          1         22              26  \n",
       "top     imdbDisplay         \\N      Drama           Drama  \n",
       "freq           7395       7470       1767            2428  "
      ]
     },
     "execution_count": 10,
     "metadata": {},
     "output_type": "execute_result"
    }
   ],
   "source": [
    "#Revisar el contenido de las variables que no son numéricas, en este caso son categóricas\n",
    "df_movies[name_cols_non_number].describe()"
   ]
  },
  {
   "cell_type": "markdown",
   "id": "71330537",
   "metadata": {},
   "source": [
    "### 3.2. Análisis de calidad de datos"
   ]
  },
  {
   "cell_type": "markdown",
   "id": "7186bdcc",
   "metadata": {},
   "source": [
    "### 3.2.1 Completitud - Análisis de valores nulos o vacíos"
   ]
  },
  {
   "cell_type": "code",
   "execution_count": 11,
   "id": "566f2c71",
   "metadata": {
    "tags": []
   },
   "outputs": [
    {
     "data": {
      "text/plain": [
       "numVotes           0.000134\n",
       "ordering           0.000134\n",
       "main_genre         0.000134\n",
       "isOriginalTitle    0.000134\n",
       "attributes         0.000134\n",
       "types              0.000134\n",
       "language           0.000134\n",
       "region             0.000134\n",
       "secondary_genre    0.000134\n",
       "averageRating      0.000134\n",
       "runtimeMinutes     0.000134\n",
       "startYear          0.000134\n",
       "isAdult            0.000134\n",
       "index              0.000000\n",
       "originalTitle      0.000000\n",
       "titleType          0.000000\n",
       "tconst             0.000000\n",
       "#                  0.000000\n",
       "dtype: float64"
      ]
     },
     "execution_count": 11,
     "metadata": {},
     "output_type": "execute_result"
    }
   ],
   "source": [
    "# Cálculo de porcentaje de valores nulos por columna\n",
    "((df_movies.isnull().sum()/df_movies.shape[0])).sort_values(ascending=False)"
   ]
  },
  {
   "cell_type": "markdown",
   "id": "71a3ecae",
   "metadata": {},
   "source": [
    "### 3.2.2 Unicidad"
   ]
  },
  {
   "cell_type": "code",
   "execution_count": 12,
   "id": "d95cbd6e",
   "metadata": {
    "tags": []
   },
   "outputs": [
    {
     "data": {
      "text/plain": [
       "6"
      ]
     },
     "execution_count": 12,
     "metadata": {},
     "output_type": "execute_result"
    }
   ],
   "source": [
    "#Se revisa si hay registros duplicados\n",
    "df_movies.duplicated(keep = False).sum()"
   ]
  },
  {
   "cell_type": "markdown",
   "id": "db0c4105-4f20-4d7d-a389-8a7f9b143cdc",
   "metadata": {},
   "source": [
    "### 3.2.3 Consistencia"
   ]
  },
  {
   "cell_type": "code",
   "execution_count": 13,
   "id": "e714bb05-36af-4808-ad8e-4fd62e77cc15",
   "metadata": {
    "tags": []
   },
   "outputs": [
    {
     "data": {
      "text/plain": [
       "movie           4673\n",
       "tvSeries        2340\n",
       "tvMiniSeries     379\n",
       "tvMovie           70\n",
       "MOVIE              5\n",
       "MOvie              3\n",
       "Movie              1\n",
       "Name: titleType, dtype: int64"
      ]
     },
     "execution_count": 13,
     "metadata": {},
     "output_type": "execute_result"
    }
   ],
   "source": [
    "# Se revisa la variable titleType \n",
    "df_movies.titleType.value_counts()"
   ]
  },
  {
   "cell_type": "markdown",
   "id": "823b7d4f",
   "metadata": {},
   "source": [
    "### 3.2.4 Validez"
   ]
  },
  {
   "cell_type": "markdown",
   "id": "8a36dfb7",
   "metadata": {},
   "source": [
    "Para la columna “runtimeMinutes” hay 98 registros que a pesar de no estar vacíos tienen como información “/N” lo cual no es un dato válido teniendo en cuenta que aquí encontramos información sobre la duración de la película o serie. De esta manera, en este campo para esos 98 registros no hay una validez. Este analisis fue realizado con Power BI al cargar los datos y con filtros en Excel"
   ]
  },
  {
   "cell_type": "markdown",
   "id": "f5709274",
   "metadata": {},
   "source": [
    "### 3.2.5 Reporte Automático con Profiling\n"
   ]
  },
  {
   "cell_type": "code",
   "execution_count": 14,
   "id": "1c8d4c14",
   "metadata": {},
   "outputs": [],
   "source": [
    "#import pandas_profiling\n",
    "\n",
    "#profiling =pandas_profiling.ProfileReport(df_movies)\n",
    "#profiling"
   ]
  },
  {
   "cell_type": "markdown",
   "id": "c1a24300",
   "metadata": {},
   "source": [
    "### 4.1 Preparar los datos"
   ]
  },
  {
   "cell_type": "markdown",
   "id": "6a849ff8",
   "metadata": {},
   "source": [
    "### 4.1.1 Selección de Variables a Utilizar - Corrección de Datos\n"
   ]
  },
  {
   "cell_type": "code",
   "execution_count": 15,
   "id": "d7dec383",
   "metadata": {},
   "outputs": [],
   "source": [
    "# Identificar los registros incorrectos\n",
    "registros_incorrectos = df_movies[(df_movies['averageRating'] == 68) | (df_movies['averageRating'] == 92)]"
   ]
  },
  {
   "cell_type": "code",
   "execution_count": 16,
   "id": "5cc6c5e3",
   "metadata": {},
   "outputs": [
    {
     "name": "stdout",
     "output_type": "stream",
     "text": [
      "         #  index      tconst titleType                        originalTitle  \\\n",
      "6       64    227  tt10687506     movie    The Electrical Life of Louis Wain   \n",
      "51     242    643   tt4121306     movie                             Lac Gioi   \n",
      "68     286    734   tt6428150     movie                           Free Dance   \n",
      "385    653   1214   tt0258000     movie                           Panic Room   \n",
      "387    656   1219   tt0259534     movie  Ramayana: The Legend of Prince Rama   \n",
      "558    828   1427   tt0323298     movie                           The Mother   \n",
      "1281  1561   2347   tt0944947  tvSeries                      Game of Thrones   \n",
      "1544  1827   2680  tt10741542     movie                               Sherni   \n",
      "1808  2092   3007  tt11717394  tvSeries                      Country Comfort   \n",
      "2059  2347   3324  tt12861850     movie             Chandigarh Kare Aashiqui   \n",
      "2606  2900   4018  tt15341442  tvSeries              The Croods: Family Tree   \n",
      "3053  3348   4569   tt1884268     movie                          Chalo Dilli   \n",
      "3697  3996   5374   tt2972482     movie            Kundo: Min-ran-eui si-dae   \n",
      "\n",
      "      isAdult  startYear runtimeMinutes  averageRating   numVotes  ordering  \\\n",
      "6         0.0     2021.0            111            6.8    17455.0      37.0   \n",
      "51        0.0     2014.0             93            6.8       75.0       4.0   \n",
      "68        0.0     2016.0            103            6.8     2138.0       2.0   \n",
      "385       0.0     2002.0            112            6.8   287354.0      55.0   \n",
      "387       0.0     1993.0            135            9.2    11754.0       4.0   \n",
      "558       0.0     2003.0            112            6.8     4555.0      26.0   \n",
      "1281      0.0     2011.0             57            9.2  2175320.0      30.0   \n",
      "1544      0.0     2021.0            131            6.8    11396.0      12.0   \n",
      "1808      0.0     2021.0             25            6.8     3917.0      12.0   \n",
      "2059      0.0     2021.0            117            6.8    14775.0      18.0   \n",
      "2606      0.0     2021.0             22            6.8     3416.0       2.0   \n",
      "3053      0.0     2011.0            155            6.8     3430.0       5.0   \n",
      "3697      0.0     2014.0            137            6.8     3623.0       6.0   \n",
      "\n",
      "     region language        types attributes  isOriginalTitle main_genre  \\\n",
      "6        US       en  imdbDisplay         \\N              0.0  Biography   \n",
      "51       US       en  alternative         \\N              0.0     Action   \n",
      "68       US       en  imdbDisplay         \\N              0.0      Music   \n",
      "385      IN       en  imdbDisplay         \\N              0.0      Crime   \n",
      "387      IN       en  imdbDisplay         \\N              0.0     Action   \n",
      "558      IN       en  imdbDisplay         \\N              0.0      Drama   \n",
      "1281     IN       en  imdbDisplay         \\N              0.0     Action   \n",
      "1544     IN       en  imdbDisplay         \\N              0.0     Action   \n",
      "1808     IN       en  imdbDisplay         \\N              0.0     Comedy   \n",
      "2059     IN       en  imdbDisplay         \\N              0.0     Comedy   \n",
      "2606     IN       en  imdbDisplay         \\N              0.0  Adventure   \n",
      "3053     IN       en  imdbDisplay         \\N              0.0     Comedy   \n",
      "3697     IN       en  imdbDisplay         \\N              0.0     Action   \n",
      "\n",
      "     secondary_genre  \n",
      "6              Drama  \n",
      "51             Drama  \n",
      "68           Romance  \n",
      "385            Drama  \n",
      "387        Adventure  \n",
      "558          Romance  \n",
      "1281       Adventure  \n",
      "1544       Adventure  \n",
      "1808           Drama  \n",
      "2059           Crime  \n",
      "2606       Animation  \n",
      "3053           Drama  \n",
      "3697           Drama  \n"
     ]
    }
   ],
   "source": [
    "# Corregir los valores incorrectos\n",
    "df_movies.loc[registros_incorrectos.index, 'averageRating'] = registros_incorrectos['averageRating'] / 10.0\n",
    "# Verificar que los registros corregidos tengan los valores correctos\n",
    "registros_verificados = df_movies.loc[registros_incorrectos.index]\n",
    "print(registros_verificados)"
   ]
  },
  {
   "cell_type": "code",
   "execution_count": 17,
   "id": "6a3d56d2",
   "metadata": {},
   "outputs": [
    {
     "name": "stdout",
     "output_type": "stream",
     "text": [
      "Número de filas después de eliminar: 7470\n"
     ]
    }
   ],
   "source": [
    "#Registro vacío a eliminar con su #\n",
    "registro_a_eliminar = 3367\n",
    "df_movies_model = df_movies[df_movies['#'] != registro_a_eliminar].copy()\n",
    "\n",
    "#comprobación\n",
    "print(\"Número de filas después de eliminar:\", df_movies_model.shape[0])"
   ]
  },
  {
   "cell_type": "code",
   "execution_count": 18,
   "id": "a6287a36",
   "metadata": {},
   "outputs": [
    {
     "data": {
      "text/plain": [
       "0"
      ]
     },
     "execution_count": 18,
     "metadata": {},
     "output_type": "execute_result"
    }
   ],
   "source": [
    "# Eliminar registros duplicados y quedarse con uno de cada conjunto de duplicados\n",
    "df_movies_model.drop_duplicates(inplace=True)\n",
    "#Se revisa si hay registros duplicados\n",
    "df_movies_model.duplicated(keep = False).sum()\n",
    "\n"
   ]
  },
  {
   "cell_type": "code",
   "execution_count": 19,
   "id": "7f246a79",
   "metadata": {},
   "outputs": [
    {
     "data": {
      "text/plain": [
       "movie           4680\n",
       "tvSeries        2338\n",
       "tvMiniSeries     379\n",
       "tvMovie           70\n",
       "Name: titleType, dtype: int64"
      ]
     },
     "execution_count": 19,
     "metadata": {},
     "output_type": "execute_result"
    }
   ],
   "source": [
    "def corregir_titleType(variacion):\n",
    "    if variacion in [\"MOVIE\", \"MOvie\", \"Movie\"]:\n",
    "        return \"movie\"\n",
    "    else:\n",
    "        return variacion\n",
    "\n",
    "# Aplicar la función a la columna titleType\n",
    "df_movies_model['titleType'] = df_movies_model['titleType'].apply(corregir_titleType)\n",
    "\n",
    "# Verificar nuevamente la variable titleType después de corregir\n",
    "df_movies_model.titleType.value_counts()"
   ]
  }
 ],
 "metadata": {
  "kernelspec": {
   "display_name": "Python 3 (ipykernel)",
   "language": "python",
   "name": "python3"
  },
  "language_info": {
   "codemirror_mode": {
    "name": "ipython",
    "version": 3
   },
   "file_extension": ".py",
   "mimetype": "text/x-python",
   "name": "python",
   "nbconvert_exporter": "python",
   "pygments_lexer": "ipython3",
   "version": "3.11.4"
  }
 },
 "nbformat": 4,
 "nbformat_minor": 5
}
